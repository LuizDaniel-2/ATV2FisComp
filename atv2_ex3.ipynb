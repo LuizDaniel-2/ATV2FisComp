{
 "cells": [
  {
   "cell_type": "markdown",
   "id": "479df200",
   "metadata": {},
   "source": [
    "### Exercício 3\n",
    "\n",
    "Sem usar qualquer função pré estabelecida e usando apenas os comandos de leitura e escrita, além do \"for\" e \"if\", após ler um conjunto de números inteiros de um arquivo, classifique-os em ordem crescente."
   ]
  },
  {
   "cell_type": "markdown",
   "id": "3d3eed46",
   "metadata": {},
   "source": [
    "![exercicio3](Ex3.png)"
   ]
  },
  {
   "cell_type": "code",
   "execution_count": 14,
   "id": "e9e2a744",
   "metadata": {},
   "outputs": [
    {
     "name": "stdout",
     "output_type": "stream",
     "text": [
      "Lista original: [10, 5, 33, 42, 12, 8, 99, 15]\n",
      "Lista ordenada: [5, 8, 10, 12, 15, 33, 42, 99]\n"
     ]
    }
   ],
   "source": [
    "import csv\n",
    "\n",
    "nome_arquivo = 'dados.csv'\n",
    "\n",
    "# Lista para armazenar os dados lidos do arquivo\n",
    "lista = []\n",
    "\n",
    "# Abre o arquivo no modo de leitura ('r')\n",
    "with open(nome_arquivo, mode='r') as arquivo_csv:\n",
    "    # Cria um leitor de CSV que converte cada linha em uma lista de strings\n",
    "    leitor_csv = csv.reader(arquivo_csv)\n",
    "    # Itera sobre cada linha do leitor\n",
    "    for linha in leitor_csv:\n",
    "        for i in linha:\n",
    "            # Converte cada elemento da linha para inteiro e adiciona à lista\n",
    "            i = int(i)\n",
    "            lista.append(i)\n",
    "\n",
    "def alcance(lista):\n",
    "    \"\"\"Retorna o tamanho da lista.\"\"\"\n",
    "    tamanho = 0\n",
    "    conjunto = []\n",
    "    for _ in lista:\n",
    "        conjunto.append(tamanho)\n",
    "        tamanho += 1\n",
    "    return conjunto\n",
    "\n",
    "# Imprime a lista original\n",
    "print(\"Lista original:\", lista)\n",
    "\n",
    "# Ordena a lista em ordem crescente\n",
    "for i in lista:\n",
    "    for j in alcance(lista)[:-1]:\n",
    "        # Compara os elementos adjacentes\n",
    "        if lista[j] > lista[j + 1]:\n",
    "            # Troca os elementos\n",
    "            lista[j], lista[j + 1] = lista[j + 1], lista[j]\n",
    "# Imprime a lista ordenada\n",
    "print(\"Lista ordenada:\", lista)"
   ]
  }
 ],
 "metadata": {
  "kernelspec": {
   "display_name": "Python 3",
   "language": "python",
   "name": "python3"
  },
  "language_info": {
   "codemirror_mode": {
    "name": "ipython",
    "version": 3
   },
   "file_extension": ".py",
   "mimetype": "text/x-python",
   "name": "python",
   "nbconvert_exporter": "python",
   "pygments_lexer": "ipython3",
   "version": "3.11.4"
  }
 },
 "nbformat": 4,
 "nbformat_minor": 5
}
