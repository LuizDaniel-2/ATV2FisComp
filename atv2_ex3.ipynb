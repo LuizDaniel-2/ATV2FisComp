{
 "cells": [
  {
   "cell_type": "markdown",
   "id": "479df200",
   "metadata": {},
   "source": [
    "### Exercício 3\n",
    "\n",
    "Sem usar qualquer função pré estabelecida e usando apenas os comandos de leitura e escrita, além do \"for\" e \"if\", após ler um conjunto de números inteiros de um arquivo, classifique-os em ordem crescente."
   ]
  },
  {
   "cell_type": "code",
   "execution_count": null,
   "id": "e9e2a744",
   "metadata": {},
   "outputs": [],
   "source": [
    "lista = [7, 29, 4, 2, 6,10,1,9,67,5,8,12,11,15,14,13,16,17,18,19,20]\n",
    "\n",
    "def alcance(lista):\n",
    "    \"\"\"Retorna o tamanho da lista.\"\"\"\n",
    "    tamanho = 0\n",
    "    conjunto = []\n",
    "    for _ in lista:\n",
    "        conjunto.append(tamanho)\n",
    "        tamanho += 1\n",
    "    return conjunto\n",
    "\n",
    "# Ordena a lista em ordem crescente\n",
    "for i in lista:\n",
    "    for j in alcance(lista)[:-1]:\n",
    "        # Compara os elementos adjacentes\n",
    "        if lista[j] > lista[j + 1]:\n",
    "            # Troca os elementos\n",
    "            lista[j], lista[j + 1] = lista[j + 1], lista[j]\n",
    "# Imprime a lista ordenada\n",
    "print(\"Lista ordenada:\", lista)"
   ]
  }
 ],
 "metadata": {
  "language_info": {
   "name": "python"
  }
 },
 "nbformat": 4,
 "nbformat_minor": 5
}
