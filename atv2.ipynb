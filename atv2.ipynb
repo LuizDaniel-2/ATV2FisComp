{
 "cells": [
  {
   "cell_type": "markdown",
   "id": "a6bf2417",
   "metadata": {},
   "source": [
    "# Atividade 2"
   ]
  },
  {
   "cell_type": "markdown",
   "id": "366dc0f5",
   "metadata": {},
   "source": [
    "### Exercicio 1"
   ]
  },
  {
   "cell_type": "markdown",
   "id": "452b2e31",
   "metadata": {},
   "source": [
    "Foi gerado um programa usando ChatGPT, que describe o movimentos dos 5 primeros planetas.\n",
    "\n",
    "https://moodle.ufabc.edu.br/pluginfile.php/291474/question/questiontext/312361/1/2233931/planetas.py\n",
    "\n",
    "a) Rode o programa (escolha uma data inicial) e apresente o output e  explique o que eles significam.\n",
    "\n",
    "b) Faça um fluxograma do programa.\n",
    "\n",
    "c) O que faz, e quais sao as funcoes da biblioteca ephem.\n",
    "\n",
    "d) Foi gerado um novo codigo para fazer um plot. Altere a data inicial e rode. Explique o resultado.\n",
    "\n",
    "https://moodle.ufabc.edu.br/pluginfile.php/291474/question/questiontext/312361/1/2233931/planetas2.py"
   ]
  },
  {
   "cell_type": "markdown",
   "id": "8b4827a0",
   "metadata": {},
   "source": [
    "Parte 1"
   ]
  },
  {
   "cell_type": "code",
   "execution_count": 1,
   "id": "01c32d13",
   "metadata": {},
   "outputs": [
    {
     "ename": "ModuleNotFoundError",
     "evalue": "No module named 'ephem'",
     "output_type": "error",
     "traceback": [
      "\u001b[31m---------------------------------------------------------------------------\u001b[39m",
      "\u001b[31mModuleNotFoundError\u001b[39m                       Traceback (most recent call last)",
      "\u001b[36mCell\u001b[39m\u001b[36m \u001b[39m\u001b[32mIn[1]\u001b[39m\u001b[32m, line 1\u001b[39m\n\u001b[32m----> \u001b[39m\u001b[32m1\u001b[39m \u001b[38;5;28;01mimport\u001b[39;00m\u001b[38;5;250m \u001b[39m\u001b[34;01mephem\u001b[39;00m\n\u001b[32m      3\u001b[39m \u001b[38;5;66;03m# Define as datas iniciais e finais\u001b[39;00m\n\u001b[32m      4\u001b[39m start_date = ephem.Date(\u001b[33m'\u001b[39m\u001b[33m2023/06/05\u001b[39m\u001b[33m'\u001b[39m)\n",
      "\u001b[31mModuleNotFoundError\u001b[39m: No module named 'ephem'"
     ]
    }
   ],
   "source": [
    "import ephem\n",
    "\n",
    "# Define as datas iniciais e finais\n",
    "start_date = ephem.Date('2023/06/05')\n",
    "end_date = ephem.Date('2023/06/06')\n",
    "\n",
    "# Cria os objetos para os cinco primeiros planetas\n",
    "mercury = ephem.Mercury()\n",
    "venus = ephem.Venus()\n",
    "mars = ephem.Mars()\n",
    "jupiter = ephem.Jupiter()\n",
    "saturn = ephem.Saturn()\n",
    "\n",
    "# Loop para calcular as posições dos planetas em intervalos de um dia\n",
    "current_date = start_date\n",
    "while current_date < end_date:\n",
    "    # Calcula as posições dos planetas para a data atual\n",
    "    mercury.compute(current_date)\n",
    "    venus.compute(current_date)\n",
    "    mars.compute(current_date)\n",
    "    jupiter.compute(current_date)\n",
    "    saturn.compute(current_date)\n",
    "\n",
    "    # Imprime as posições dos planetas para a data atual\n",
    "    print(\"Data:\", current_date)\n",
    "    print(\"Mercúrio:\", mercury.ra, mercury.dec)\n",
    "    print(\"Vênus:\", venus.ra, venus.dec)\n",
    "    print(\"Marte:\", mars.ra, mars.dec)\n",
    "    print(\"Júpiter:\", jupiter.ra, jupiter.dec)\n",
    "    print(\"Saturno:\", saturn.ra, saturn.dec)\n",
    "    print(\"\")\n",
    "\n",
    "    # Incrementa a data em um dia\n",
    "    current_date += 1"
   ]
  },
  {
   "cell_type": "markdown",
   "id": "c87dd115",
   "metadata": {},
   "source": [
    "Parte 2"
   ]
  },
  {
   "cell_type": "code",
   "execution_count": null,
   "id": "d917e1ee",
   "metadata": {},
   "outputs": [],
   "source": [
    "import ephem\n",
    "import matplotlib.pyplot as plt\n",
    "from datetime import datetime, timedelta\n",
    "\n",
    "# Define as datas iniciais e finais\n",
    "start_date = datetime(2021, 6, 5)\n",
    "end_date = datetime(2023, 6, 6)\n",
    "num_days = (end_date - start_date).days\n",
    "\n",
    "# Cria as listas para armazenar as posições dos planetas\n",
    "dates = []\n",
    "mercury_ra = []\n",
    "mercury_dec = []\n",
    "venus_ra = []\n",
    "venus_dec = []\n",
    "mars_ra = []\n",
    "mars_dec = []\n",
    "jupiter_ra = []\n",
    "jupiter_dec = []\n",
    "saturn_ra = []\n",
    "saturn_dec = []\n",
    "\n",
    "# Loop para calcular as posições dos planetas em intervalos de um dia\n",
    "current_date = start_date\n",
    "for _ in range(num_days):\n",
    "    # Calcula as posições dos planetas para a data atual\n",
    "    current_date_str = current_date.strftime('%Y/%m/%d')\n",
    "    mercury = ephem.Mercury(current_date_str)\n",
    "    venus = ephem.Venus(current_date_str)\n",
    "    mars = ephem.Mars(current_date_str)\n",
    "    jupiter = ephem.Jupiter(current_date_str)\n",
    "    saturn = ephem.Saturn(current_date_str)\n",
    "\n",
    "    # Armazena as posições dos planetas\n",
    "    dates.append(current_date)\n",
    "    mercury_ra.append(mercury.ra)\n",
    "    mercury_dec.append(mercury.dec)\n",
    "    venus_ra.append(venus.ra)\n",
    "    venus_dec.append(venus.dec)\n",
    "    mars_ra.append(mars.ra)\n",
    "    mars_dec.append(mars.dec)\n",
    "    jupiter_ra.append(jupiter.ra)\n",
    "    jupiter_dec.append(jupiter.dec)\n",
    "    saturn_ra.append(saturn.ra)\n",
    "    saturn_dec.append(saturn.dec)\n",
    "\n",
    "    # Incrementa a data em um dia\n",
    "    current_date += timedelta(days=1)\n",
    "\n",
    "# Cria o gráfico de Mercúrio\n",
    "plt.plot(dates, mercury_ra, label='Mercúrio RA')\n",
    "plt.plot(dates, mercury_dec, label='Mercúrio Dec')\n",
    "\n",
    "# Cria o gráfico de Vênus\n",
    "plt.plot(dates, venus_ra, label='Vênus RA')\n",
    "plt.plot(dates, venus_dec, label='Vênus Dec')\n",
    "\n",
    "# Cria o gráfico de Marte\n",
    "plt.plot(dates, mars_ra, label='Marte RA')\n",
    "plt.plot(dates, mars_dec, label='Marte Dec')\n",
    "\n",
    "# Cria o gráfico de Júpiter\n",
    "plt.plot(dates, jupiter_ra, label='Júpiter RA')\n",
    "plt.plot(dates, jupiter_dec, label='Júpiter Dec')\n",
    "\n",
    "# Cria o gráfico de Saturno\n",
    "plt.plot(dates, saturn_ra, label='Saturno RA')\n",
    "plt.plot(dates, saturn_dec, label='Saturno Dec')\n",
    "\n",
    "# Configurações do gráfico\n",
    "plt.xlabel('Data')\n",
    "plt.ylabel('Posição')\n",
    "plt.title('Posições dos Planetas em Função do Tempo')\n",
    "plt.legend()\n",
    "plt.xticks(rotation=45)\n",
    "plt.grid(True)\n",
    "\n",
    "# Mostra o gráfico\n",
    "plt.show()\n",
    "\n"
   ]
  },
  {
   "cell_type": "markdown",
   "id": "8bd8d65c",
   "metadata": {},
   "source": [
    "### Exercico 2"
   ]
  },
  {
   "cell_type": "markdown",
   "id": "c3c66037",
   "metadata": {},
   "source": [
    "![questao2](q2.png)"
   ]
  },
  {
   "cell_type": "code",
   "execution_count": null,
   "id": "a17b3af0",
   "metadata": {},
   "outputs": [],
   "source": [
    "#perguntar velocidade inicial"
   ]
  },
  {
   "cell_type": "markdown",
   "id": "8b9af6e6",
   "metadata": {},
   "source": [
    "### Exercício 3"
   ]
  },
  {
   "cell_type": "markdown",
   "id": "84841cf2",
   "metadata": {},
   "source": [
    "Sem usar qualquer função pré estabelecida e usando apenas os comandos de leitura e escrita, além do \"for\" e \"if\", após ler um conjunto de números inteiros de um arquivo, classifique-os em ordem crescente."
   ]
  },
  {
   "cell_type": "code",
   "execution_count": 4,
   "id": "e1aaaa59",
   "metadata": {},
   "outputs": [
    {
     "name": "stdout",
     "output_type": "stream",
     "text": [
      "Lista ordenada: [1, 2, 4, 5, 6, 7, 8, 9, 10, 11, 12, 13, 14, 15, 16, 17, 18, 19, 20, 29, 67]\n"
     ]
    }
   ],
   "source": [
    "lista = [7, 29, 4, 2, 6,10,1,9,67,5,8,12,11,15,14,13,16,17,18,19,20]\n",
    "\n",
    "def alcance(lista):\n",
    "    \"\"\"Retorna o tamanho da lista.\"\"\"\n",
    "    tamanho = 0\n",
    "    conjunto = []\n",
    "    for _ in lista:\n",
    "        conjunto.append(tamanho)\n",
    "        tamanho += 1\n",
    "    return conjunto\n",
    "\n",
    "# Ordena a lista em ordem crescente\n",
    "for i in lista:\n",
    "    for j in alcance(lista)[:-1]:\n",
    "        # Compara os elementos adjacentes\n",
    "        if lista[j] > lista[j + 1]:\n",
    "            # Troca os elementos\n",
    "            lista[j], lista[j + 1] = lista[j + 1], lista[j]\n",
    "# Imprime a lista ordenada\n",
    "print(\"Lista ordenada:\", lista)"
   ]
  },
  {
   "cell_type": "markdown",
   "id": "3d8f12ad",
   "metadata": {},
   "source": [
    "### Exercíco 4"
   ]
  },
  {
   "cell_type": "markdown",
   "id": "29eafbbe",
   "metadata": {},
   "source": [
    "Digite e compile os programas em C e Fortran contidos nos slides de nosso terceiro encontro. Espera-se que inclua os códigos, prints da tela de compilação e um fluxograma simples"
   ]
  },
  {
   "cell_type": "code",
   "execution_count": null,
   "id": "be398376",
   "metadata": {},
   "outputs": [],
   "source": [
    "#onde estão os slides"
   ]
  },
  {
   "cell_type": "markdown",
   "id": "4633a109",
   "metadata": {},
   "source": [
    "### Execício 5\n",
    "\n",
    "Suponha que a posição de um ponto no espaço bidimensional nos seja dada em coordenadas polares r, θ e queremos convertê-lo em coordenadas cartesianas x, y. Escrevera um programa para fazer isso."
   ]
  },
  {
   "cell_type": "code",
   "execution_count": null,
   "id": "bdb09174",
   "metadata": {},
   "outputs": [],
   "source": [
    "from numpy import sin, cos\n",
    "\n",
    "r = float(input(\"Digite a coordenada r: \"))\n",
    "theta = float(input(\"Digite a coordenada theta: \")) \n",
    "\n",
    "# Converte as coordenadas polares para cartesianas \n",
    "\n",
    "x = r * cos(theta) #coordenada x\n",
    "y = r * sin(theta) #coordenada y\n",
    "\n",
    "print(f\"As coordenadas cartesianas são: (x,y) = ({x}, {y})\")"
   ]
  }
 ],
 "metadata": {
  "kernelspec": {
   "display_name": "Python 3",
   "language": "python",
   "name": "python3"
  },
  "language_info": {
   "codemirror_mode": {
    "name": "ipython",
    "version": 3
   },
   "file_extension": ".py",
   "mimetype": "text/x-python",
   "name": "python",
   "nbconvert_exporter": "python",
   "pygments_lexer": "ipython3",
   "version": "3.11.4"
  }
 },
 "nbformat": 4,
 "nbformat_minor": 5
}
