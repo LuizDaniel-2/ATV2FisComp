{
 "cells": [
  {
   "cell_type": "markdown",
   "id": "d63bb574",
   "metadata": {},
   "source": [
    "### Exercico 2"
   ]
  },
  {
   "cell_type": "markdown",
   "id": "5d7ab18b",
   "metadata": {},
   "source": [
    "![questao2](q2.png)"
   ]
  },
  {
   "cell_type": "code",
   "execution_count": null,
   "id": "2e3dbe75",
   "metadata": {},
   "outputs": [],
   "source": []
  }
 ],
 "metadata": {
  "kernelspec": {
   "display_name": "Python 3",
   "language": "python",
   "name": "python3"
  },
  "language_info": {
   "codemirror_mode": {
    "name": "ipython",
    "version": 3
   },
   "file_extension": ".py",
   "mimetype": "text/x-python",
   "name": "python",
   "nbconvert_exporter": "python",
   "pygments_lexer": "ipython3",
   "version": "3.11.4"
  }
 },
 "nbformat": 4,
 "nbformat_minor": 5
}
