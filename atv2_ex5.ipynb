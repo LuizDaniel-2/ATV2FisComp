{
 "cells": [
  {
   "cell_type": "markdown",
   "id": "b115a144",
   "metadata": {},
   "source": [
    "### Execício 5\n",
    "\n",
    "Suponha que a posição de um ponto no espaço bidimensional nos seja dada em coordenadas polares r, θ e queremos convertê-lo em coordenadas cartesianas x, y. Escrevera um programa para fazer isso."
   ]
  },
  {
   "cell_type": "code",
   "execution_count": null,
   "id": "d6ae567f",
   "metadata": {},
   "outputs": [],
   "source": [
    "from numpy import sin, cos\n",
    "\n",
    "r = float(input(\"Digite a coordenada r: \"))\n",
    "theta = float(input(\"Digite a coordenada theta: \")) \n",
    "\n",
    "# Converte as coordenadas polares para cartesianas \n",
    "\n",
    "x = r * cos(theta) #coordenada x\n",
    "y = r * sin(theta) #coordenada y\n",
    "\n",
    "print(f\"As coordenadas cartesianas são: (x,y) = ({x}, {y})\")"
   ]
  }
 ],
 "metadata": {
  "language_info": {
   "name": "python"
  }
 },
 "nbformat": 4,
 "nbformat_minor": 5
}
