{
 "cells": [
  {
   "cell_type": "markdown",
   "id": "b115a144",
   "metadata": {},
   "source": [
    "### Execício 5\n",
    "\n",
    "Suponha que a posição de um ponto no espaço bidimensional nos seja dada em coordenadas polares r, θ e queremos convertê-lo em coordenadas cartesianas x, y. Escrevera um programa para fazer isso."
   ]
  },
  {
   "cell_type": "markdown",
   "id": "7c58ae65",
   "metadata": {},
   "source": [
    "![exercício5](Ex5.png)"
   ]
  },
  {
   "cell_type": "code",
   "execution_count": 2,
   "id": "d6ae567f",
   "metadata": {},
   "outputs": [
    {
     "name": "stdout",
     "output_type": "stream",
     "text": [
      "As coordenadas cartesianas são: (x,y) = (7.0710678118654755, 7.0710678118654755)\n"
     ]
    }
   ],
   "source": [
    "from numpy import sin, cos, pi\n",
    "\n",
    "r = float(input(\"Digite a coordenada r: \"))\n",
    "theta = float(input(\"Digite a coordenada theta (em graus): \")) \n",
    "\n",
    "# Converte as coordenadas polares para cartesianas \n",
    "\n",
    "x = r * cos(theta*pi/180) #coordenada x\n",
    "y = r * sin(theta*pi/180) #coordenada y\n",
    "\n",
    "print(f\"As coordenadas cartesianas são: (x,y) = ({x}, {y})\")"
   ]
  }
 ],
 "metadata": {
  "kernelspec": {
   "display_name": "base",
   "language": "python",
   "name": "python3"
  },
  "language_info": {
   "codemirror_mode": {
    "name": "ipython",
    "version": 3
   },
   "file_extension": ".py",
   "mimetype": "text/x-python",
   "name": "python",
   "nbconvert_exporter": "python",
   "pygments_lexer": "ipython3",
   "version": "3.12.7"
  }
 },
 "nbformat": 4,
 "nbformat_minor": 5
}
