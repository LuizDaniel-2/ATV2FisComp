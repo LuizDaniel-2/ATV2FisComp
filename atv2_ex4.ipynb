{
 "cells": [
  {
   "cell_type": "markdown",
   "id": "ad06086a",
   "metadata": {},
   "source": [
    "### Exercíco 4"
   ]
  },
  {
   "cell_type": "markdown",
   "id": "0ab2118e",
   "metadata": {},
   "source": [
    "Digite e compile os programas em C e Fortran contidos nos slides de nosso terceiro encontro. Espera-se que inclua os códigos, prints da tela de compilação e um fluxograma simples"
   ]
  },
  {
   "cell_type": "code",
   "execution_count": null,
   "id": "72732f2e",
   "metadata": {},
   "outputs": [],
   "source": []
  }
 ],
 "metadata": {
  "language_info": {
   "name": "python"
  }
 },
 "nbformat": 4,
 "nbformat_minor": 5
}
